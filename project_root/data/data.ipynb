{
 "cells": [
  {
   "cell_type": "code",
   "execution_count": 3,
   "metadata": {},
   "outputs": [
    {
     "name": "stdout",
     "output_type": "stream",
     "text": [
      "Génération du dataset synthétique...\n"
     ]
    },
    {
     "name": "stderr",
     "output_type": "stream",
     "text": [
      "100%|██████████| 500000/500000 [00:03<00:00, 142061.12it/s]\n"
     ]
    },
    {
     "name": "stdout",
     "output_type": "stream",
     "text": [
      "✅ Dataset généré et sauvegardé dans 'data/dataset_sorties_500k.csv'\n"
     ]
    }
   ],
   "source": [
    "import pandas as pd\n",
    "import random\n",
    "from faker import Faker\n",
    "from tqdm import tqdm\n",
    "\n",
    "fake = Faker('fr_FR')\n",
    "Faker.seed(42)\n",
    "random.seed(42)\n",
    "\n",
    "# Paramètres\n",
    "N = 500_000\n",
    "villes = ['Paris', 'Lyon', 'Marseille', 'Toulouse', 'Bordeaux', 'Nice', 'Nantes', 'Strasbourg']\n",
    "genres = ['homme', 'femme', 'non-binaire']\n",
    "preferences = ['cocktails', 'dîner romantique', 'fête intense', 'ambiance chill', 'vue panoramique', 'soirée entre amis']\n",
    "types = ['bar', 'restaurant', 'boîte de nuit', 'café', 'rooftop', 'pub']\n",
    "\n",
    "# Règles de correspondance entre préférences et types\n",
    "mapping = {\n",
    "    'cocktails': ['bar', 'rooftop'],\n",
    "    'dîner romantique': ['restaurant'],\n",
    "    'fête intense': ['boîte de nuit'],\n",
    "    'ambiance chill': ['café', 'bar'],\n",
    "    'vue panoramique': ['rooftop'],\n",
    "    'soirée entre amis': ['pub', 'bar']\n",
    "}\n",
    "\n",
    "data = []\n",
    "\n",
    "print(\"Génération du dataset synthétique...\")\n",
    "for _ in tqdm(range(N)):\n",
    "    age = random.randint(18, 65)\n",
    "    genre = random.choice(genres)\n",
    "    ville = random.choice(villes)\n",
    "    preference = random.choice(preferences)\n",
    "\n",
    "    # Déterminer le type en fonction de la préférence\n",
    "    possible_types = mapping.get(preference, types)\n",
    "    type_lieu = random.choice(possible_types)\n",
    "\n",
    "    # Générer un nom de lieu réaliste\n",
    "    nom_lieu = fake.company() + \" \" + type_lieu.capitalize()\n",
    "\n",
    "    # Générer une note moyenne réaliste\n",
    "    note_moyenne = round(random.uniform(3.0, 5.0), 1)\n",
    "\n",
    "    data.append({\n",
    "        'age': age,\n",
    "        'genre': genre,\n",
    "        'ville': ville,\n",
    "        'preference': preference,\n",
    "        'type': type_lieu,\n",
    "        'nom_lieu': nom_lieu,\n",
    "        'note_moyenne': note_moyenne\n",
    "    })\n",
    "\n",
    "# Création du DataFrame\n",
    "df = pd.DataFrame(data)\n",
    "\n",
    "# Sauvegarde en CSV\n",
    "df.to_csv(\"/Users/nathanserfaty/Desktop/soirée_ml/project_root/data/dataset_sorties_500k.csv\", index=False)\n",
    "print(\"✅ Dataset généré et sauvegardé dans 'data/dataset_sorties_500k.csv'\")\n"
   ]
  }
 ],
 "metadata": {
  "kernelspec": {
   "display_name": "Python 3",
   "language": "python",
   "name": "python3"
  },
  "language_info": {
   "codemirror_mode": {
    "name": "ipython",
    "version": 3
   },
   "file_extension": ".py",
   "mimetype": "text/x-python",
   "name": "python",
   "nbconvert_exporter": "python",
   "pygments_lexer": "ipython3",
   "version": "3.9.6"
  }
 },
 "nbformat": 4,
 "nbformat_minor": 2
}
